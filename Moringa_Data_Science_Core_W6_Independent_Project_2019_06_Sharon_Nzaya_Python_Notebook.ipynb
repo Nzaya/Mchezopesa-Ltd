{
  "nbformat": 4,
  "nbformat_minor": 0,
  "metadata": {
    "colab": {
      "name": "Moringa_Data_Science_Core_W6_Independent_Project_2019_06_Sharon_Nzaya_Python_Notebook",
      "version": "0.3.2",
      "provenance": [],
      "collapsed_sections": [],
      "include_colab_link": true
    },
    "kernelspec": {
      "name": "python3",
      "display_name": "Python 3"
    }
  },
  "cells": [
    {
      "cell_type": "markdown",
      "metadata": {
        "id": "view-in-github",
        "colab_type": "text"
      },
      "source": [
        "<a href=\"https://colab.research.google.com/github/Nzaya/Mchezopesa-Ltd/blob/master/Moringa_Data_Science_Core_W6_Independent_Project_2019_06_Sharon_Nzaya_Python_Notebook.ipynb\" target=\"_parent\"><img src=\"https://colab.research.google.com/assets/colab-badge.svg\" alt=\"Open In Colab\"/></a>"
      ]
    },
    {
      "cell_type": "markdown",
      "metadata": {
        "id": "2kZNnjoL0B33",
        "colab_type": "text"
      },
      "source": [
        "  # QUESTION\n",
        "  \n",
        "  \n",
        "  You have been recruited as a football analyst in a company - Mchezopesa Ltd and tasked to accomplish the task below.\n",
        "\n",
        "A Prediction result of a game between team 1 and team 2, based on who's home and who's away, and on whether or not the game is friendly (include rank in your training)."
      ]
    },
    {
      "cell_type": "markdown",
      "metadata": {
        "id": "pV9eh-dHzi7J",
        "colab_type": "text"
      },
      "source": [
        "# METRICS OF SUCCESS"
      ]
    },
    {
      "cell_type": "code",
      "metadata": {
        "id": "rC4NDH3Kz2O-",
        "colab_type": "code",
        "colab": {}
      },
      "source": [
        ""
      ],
      "execution_count": 0,
      "outputs": []
    },
    {
      "cell_type": "markdown",
      "metadata": {
        "id": "P2YpOngczoJs",
        "colab_type": "text"
      },
      "source": [
        "# CONTEXT"
      ]
    },
    {
      "cell_type": "code",
      "metadata": {
        "id": "8t8B4DABz3WC",
        "colab_type": "code",
        "colab": {}
      },
      "source": [
        ""
      ],
      "execution_count": 0,
      "outputs": []
    },
    {
      "cell_type": "markdown",
      "metadata": {
        "id": "WuboLxs_zshE",
        "colab_type": "text"
      },
      "source": [
        "# EXPERIMENTAL DESIGN TAKEN"
      ]
    },
    {
      "cell_type": "code",
      "metadata": {
        "id": "8Tqtg1ADx4kC",
        "colab_type": "code",
        "colab": {}
      },
      "source": [
        ""
      ],
      "execution_count": 0,
      "outputs": []
    },
    {
      "cell_type": "markdown",
      "metadata": {
        "id": "iXZRAoQz1k-q",
        "colab_type": "text"
      },
      "source": [
        "# Importing necessary libraries"
      ]
    },
    {
      "cell_type": "code",
      "metadata": {
        "id": "0Z5Wbw371uM3",
        "colab_type": "code",
        "colab": {}
      },
      "source": [
        "import pandas as pd\n",
        "import numpy as np"
      ],
      "execution_count": 0,
      "outputs": []
    },
    {
      "cell_type": "markdown",
      "metadata": {
        "id": "u4m69Y3k12Oe",
        "colab_type": "text"
      },
      "source": [
        "# Loading our dataset"
      ]
    },
    {
      "cell_type": "code",
      "metadata": {
        "id": "15dmxEv_z5QR",
        "colab_type": "code",
        "colab": {}
      },
      "source": [
        "#Loading our ranking dataset\n",
        "\n",
        "ranking=pd.read_csv('/content/fifa_ranking.csv')\n",
        "ranking.head()"
      ],
      "execution_count": 0,
      "outputs": []
    },
    {
      "cell_type": "code",
      "metadata": {
        "id": "kHt2WUif1VCb",
        "colab_type": "code",
        "colab": {}
      },
      "source": [
        "#Loading our results dataset\n",
        "\n",
        "results=pd.read_csv('/content/results.csv')\n",
        "results.head()"
      ],
      "execution_count": 0,
      "outputs": []
    }
  ]
}